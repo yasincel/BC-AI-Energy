# Jupyter Notebook magic command to display plots inline
%matplotlib inline

from BIMAIProject.src.blockchain_functions import verify_blockchain_integrity
from BIMAIProject.src.blockchain_integration import Blockchain

# Create a blockchain instance
blockchain = Blockchain()

# Display the initial state of the blockchain
blockchain.chain

# Add new setpoints to the blockchain
boiler_setpoint = 70.0
ventilation_setpoint = 3.0
blockchain.add_setpoints(boiler_setpoint, ventilation_setpoint)

# Display the updated state of the blockchain
blockchain.chain

# Add another block to the blockchain
new_block = blockchain.new_block(previous_hash=None)

# Display the state of the blockchain after adding a new block
blockchain.chain

# Verify the integrity of the blockchain
blockchain_integrity = verify_blockchain_integrity(blockchain)

if blockchain_integrity:
    print("Blockchain integrity is verified.")
else:
    print("Issues with blockchain integrity.")
