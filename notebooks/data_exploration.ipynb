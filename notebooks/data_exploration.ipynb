# Jupyter Notebook magic command to display plots inline
%matplotlib inline

import pandas as pd
import matplotlib.pyplot as plt
import seaborn as sns

# Load the raw data
raw_data = pd.read_csv('BIMAIProject/data/raw_data.csv')

# Display basic information about the dataset
print("Dataset Overview:")
print(raw_data.info())

# Display basic statistics of numeric columns
print("\nSummary Statistics:")
print(raw_data.describe())

# Visualize distribution of numeric features
plt.figure(figsize=(15, 8))
sns.pairplot(raw_data, diag_kind='kde')
plt.suptitle('Pairplot of Numeric Features', y=1.02)
plt.show()

# Visualize correlation heatmap
plt.figure(figsize=(10, 8))
sns.heatmap(raw_data.corr(), annot=True, cmap='coolwarm', linewidths=0.5)
plt.title('Correlation Heatmap')
plt.show()
